{
 "cells": [
  {
   "cell_type": "code",
   "execution_count": 2,
   "id": "3db9d08e-aeac-42f9-ba47-7c53223afec2",
   "metadata": {},
   "outputs": [
    {
     "name": "stdout",
     "output_type": "stream",
     "text": [
      "[3, 8, 12, 15]\n"
     ]
    }
   ],
   "source": [
    "#zip\n",
    "l1 = [1 ,3 ,6 ,7]\n",
    "l2 = [2 ,5 ,6 ,8]\n",
    "l3 = []\n",
    "\n",
    "for i,j in zip(l1,l2):\n",
    "    l3.append(i + j)\n",
    "\n",
    "print(l3)    "
   ]
  },
  {
   "cell_type": "code",
   "execution_count": 3,
   "id": "47abf279-9ea1-4a40-89b8-7b081b9b5ee9",
   "metadata": {},
   "outputs": [
    {
     "name": "stdout",
     "output_type": "stream",
     "text": [
      "[ 3 10 12 14]\n"
     ]
    }
   ],
   "source": [
    "#add\n",
    "import numpy as np\n",
    "a1 = [2 ,4 ,5 ,6]\n",
    "a2 = [1 ,6 ,7 ,8]\n",
    "a3 = np.add(a1,a2)\n",
    "\n",
    "print(a3)"
   ]
  },
  {
   "cell_type": "code",
   "execution_count": null,
   "id": "efe8738d-2b65-4b8a-9b22-ba0b91e02ff3",
   "metadata": {},
   "outputs": [],
   "source": []
  }
 ],
 "metadata": {
  "kernelspec": {
   "display_name": "Python 3 (ipykernel)",
   "language": "python",
   "name": "python3"
  },
  "language_info": {
   "codemirror_mode": {
    "name": "ipython",
    "version": 3
   },
   "file_extension": ".py",
   "mimetype": "text/x-python",
   "name": "python",
   "nbconvert_exporter": "python",
   "pygments_lexer": "ipython3",
   "version": "3.12.0"
  }
 },
 "nbformat": 4,
 "nbformat_minor": 5
}
