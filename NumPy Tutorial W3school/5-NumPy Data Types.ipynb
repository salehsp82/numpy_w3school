{
 "cells": [
  {
   "cell_type": "code",
   "execution_count": 2,
   "id": "41c6ad95-afdd-4e32-b506-7c7db7feddbd",
   "metadata": {},
   "outputs": [],
   "source": [
    "import numpy as np"
   ]
  },
  {
   "cell_type": "code",
   "execution_count": 4,
   "id": "d1614707-5183-4f12-a724-31a9e208c0f0",
   "metadata": {},
   "outputs": [],
   "source": [
    "#Data Types in NumPy\n",
    "\n",
    "# i - integer\n",
    "# b - boolean\n",
    "# u - unsignd integer\n",
    "# f - float\n",
    "# c - complex float\n",
    "# m - timedelta\n",
    "# M - datetime\n",
    "# o - object\n",
    "# S - string\n",
    "# U - unicode string\n",
    "# V - fixed chunk of memory for other type (void)"
   ]
  },
  {
   "cell_type": "code",
   "execution_count": 3,
   "id": "76a58744-2966-4bae-b15d-9731b3f31969",
   "metadata": {},
   "outputs": [
    {
     "name": "stdout",
     "output_type": "stream",
     "text": [
      "int32\n"
     ]
    }
   ],
   "source": [
    "# Get the data type of an array object\n",
    "a1 = np.array([1 ,2 ,3 ])\n",
    "\n",
    "print(a1.dtype)"
   ]
  },
  {
   "cell_type": "code",
   "execution_count": 4,
   "id": "69c3761e-28ce-4926-ac3b-1f1d8268610b",
   "metadata": {},
   "outputs": [
    {
     "name": "stdout",
     "output_type": "stream",
     "text": [
      "<U1\n"
     ]
    }
   ],
   "source": [
    "a2 = np.array([\"a\",\"b\",\"c\"])\n",
    "\n",
    "print(a2.dtype)"
   ]
  },
  {
   "cell_type": "code",
   "execution_count": 8,
   "id": "737862cd-78e1-4584-be8e-3cf058c6fb6f",
   "metadata": {},
   "outputs": [
    {
     "name": "stdout",
     "output_type": "stream",
     "text": [
      "|S1\n",
      "[b'1' b'2' b'3' b'4']\n"
     ]
    }
   ],
   "source": [
    "#Creating Arrays With a Defined Data Type\n",
    "a3 = np.array([1 ,2 ,3 ,4 ], dtype='S')\n",
    "\n",
    "print(a3.dtype)\n",
    "print(a3)"
   ]
  },
  {
   "cell_type": "code",
   "execution_count": 10,
   "id": "1f161bcf-7d8c-4919-b6a9-f89a4cd29cf4",
   "metadata": {},
   "outputs": [
    {
     "name": "stdout",
     "output_type": "stream",
     "text": [
      "int32\n",
      "[1 2 3 4]\n"
     ]
    }
   ],
   "source": [
    "a4 = np.array([1 ,2 ,3 ,4 ] , dtype='i4')\n",
    "\n",
    "print(a4.dtype)\n",
    "print(a4)"
   ]
  },
  {
   "cell_type": "code",
   "execution_count": 16,
   "id": "1a73e40a-00bc-48bb-8fe2-527f28be8b74",
   "metadata": {},
   "outputs": [
    {
     "name": "stdout",
     "output_type": "stream",
     "text": [
      "int32\n",
      "[1 1 1 2]\n"
     ]
    }
   ],
   "source": [
    "#Converting Data Type on Existing Arrays\n",
    "a5 = np.array([1.1,1.2,1.4,2.4])\n",
    "\n",
    "newa5 = a5.astype('i')\n",
    "\n",
    "print(newa5.dtype)\n",
    "print(newa5)"
   ]
  },
  {
   "cell_type": "code",
   "execution_count": 17,
   "id": "a4609962-b997-40d8-a7e5-1ff70892b63e",
   "metadata": {},
   "outputs": [
    {
     "name": "stdout",
     "output_type": "stream",
     "text": [
      "bool\n",
      "[ True  True False  True]\n"
     ]
    }
   ],
   "source": [
    "#Change data type from integer to boolean\n",
    "a6 = np.array([1 ,2 ,0 ,4 ])\n",
    "\n",
    "newa6 = a6.astype('bool')\n",
    "\n",
    "print(newa6.dtype)\n",
    "print(newa6)"
   ]
  },
  {
   "cell_type": "code",
   "execution_count": null,
   "id": "daae0116-2638-4f0f-b4b8-7a1588d63152",
   "metadata": {},
   "outputs": [],
   "source": []
  }
 ],
 "metadata": {
  "kernelspec": {
   "display_name": "Python 3 (ipykernel)",
   "language": "python",
   "name": "python3"
  },
  "language_info": {
   "codemirror_mode": {
    "name": "ipython",
    "version": 3
   },
   "file_extension": ".py",
   "mimetype": "text/x-python",
   "name": "python",
   "nbconvert_exporter": "python",
   "pygments_lexer": "ipython3",
   "version": "3.12.0"
  }
 },
 "nbformat": 4,
 "nbformat_minor": 5
}
