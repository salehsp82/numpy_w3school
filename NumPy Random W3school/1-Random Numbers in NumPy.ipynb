{
 "cells": [
  {
   "cell_type": "code",
   "execution_count": 2,
   "id": "8c2c5279-27dd-45be-8326-ac7cdb139807",
   "metadata": {},
   "outputs": [],
   "source": [
    "from numpy import random"
   ]
  },
  {
   "cell_type": "code",
   "execution_count": 10,
   "id": "a0b36300-eb36-4aa3-b79a-2b1203d9c3b2",
   "metadata": {},
   "outputs": [
    {
     "name": "stdout",
     "output_type": "stream",
     "text": [
      "37\n"
     ]
    }
   ],
   "source": [
    "#Generate Random Number\n",
    "a = random.randint(100)\n",
    "\n",
    "print(a)"
   ]
  },
  {
   "cell_type": "code",
   "execution_count": 11,
   "id": "8f6ef46d-9cf3-43b5-b8ce-78349f4a6510",
   "metadata": {},
   "outputs": [
    {
     "name": "stdout",
     "output_type": "stream",
     "text": [
      "0.5890257116884356\n"
     ]
    }
   ],
   "source": [
    "#Generate Random Float\n",
    "b = random.rand()\n",
    "\n",
    "print(b)"
   ]
  },
  {
   "cell_type": "code",
   "execution_count": 6,
   "id": "b08580e1-653d-47a0-b9e7-f6a52210095f",
   "metadata": {},
   "outputs": [
    {
     "name": "stdout",
     "output_type": "stream",
     "text": [
      "[63 31 83 90 22]\n"
     ]
    }
   ],
   "source": [
    "#Generate Random Array\n",
    "a1 =random.randint(100,size=(5))\n",
    "\n",
    "print(a1)"
   ]
  },
  {
   "cell_type": "code",
   "execution_count": 5,
   "id": "5125c058-6df6-4dee-a897-d81683a0ee6f",
   "metadata": {},
   "outputs": [
    {
     "name": "stdout",
     "output_type": "stream",
     "text": [
      "[[98 79 32  5]\n",
      " [37 77 30 20]\n",
      " [50 17 38 54]\n",
      " [32 80 18 66]\n",
      " [90 92 79 76]]\n"
     ]
    }
   ],
   "source": [
    "a2 =random.randint(100,size=(5,4))\n",
    "\n",
    "print(a2)"
   ]
  },
  {
   "cell_type": "code",
   "execution_count": 8,
   "id": "9988fa43-ee1a-448f-9768-6594faeb48af",
   "metadata": {},
   "outputs": [
    {
     "name": "stdout",
     "output_type": "stream",
     "text": [
      "[0.96048625 0.09661022 0.09505253 0.79733425]\n"
     ]
    }
   ],
   "source": [
    "a3 = random.rand(4)\n",
    "\n",
    "print(a3)"
   ]
  },
  {
   "cell_type": "code",
   "execution_count": 9,
   "id": "8658ea26-b815-4130-a872-55eaec3e456f",
   "metadata": {},
   "outputs": [
    {
     "name": "stdout",
     "output_type": "stream",
     "text": [
      "[[4.62300869e-01 4.79166499e-01 6.58911473e-01]\n",
      " [4.52224186e-01 1.29980057e-01 3.84466851e-04]\n",
      " [8.69044656e-01 9.53088123e-01 2.62023205e-01]\n",
      " [4.94972743e-01 2.60186226e-01 8.50957858e-01]]\n"
     ]
    }
   ],
   "source": [
    "a4 = random.rand(4,3)\n",
    "\n",
    "print(a4)"
   ]
  },
  {
   "cell_type": "code",
   "execution_count": 13,
   "id": "8bdb6cfd-c8c2-410d-ac33-6ae15d42ed2e",
   "metadata": {},
   "outputs": [
    {
     "name": "stdout",
     "output_type": "stream",
     "text": [
      "2\n"
     ]
    }
   ],
   "source": [
    "#Generate Random Number From Array\n",
    "a5 =random.choice([2 ,5 ,6 ,8 ,1])\n",
    "\n",
    "print(a5)"
   ]
  },
  {
   "cell_type": "code",
   "execution_count": 14,
   "id": "742590e4-5602-46cd-b22f-29234308dabc",
   "metadata": {},
   "outputs": [
    {
     "name": "stdout",
     "output_type": "stream",
     "text": [
      "[[2 9 7 4]\n",
      " [9 3 4 3]\n",
      " [7 3 7 3]]\n"
     ]
    }
   ],
   "source": [
    "a6 = random.choice([2 ,4 ,7 ,9 ,3],size=(3,4))\n",
    "\n",
    "print(a6)"
   ]
  },
  {
   "cell_type": "code",
   "execution_count": null,
   "id": "de442215-677b-433a-a1e1-d3021d738b5e",
   "metadata": {},
   "outputs": [],
   "source": []
  }
 ],
 "metadata": {
  "kernelspec": {
   "display_name": "Python 3 (ipykernel)",
   "language": "python",
   "name": "python3"
  },
  "language_info": {
   "codemirror_mode": {
    "name": "ipython",
    "version": 3
   },
   "file_extension": ".py",
   "mimetype": "text/x-python",
   "name": "python",
   "nbconvert_exporter": "python",
   "pygments_lexer": "ipython3",
   "version": "3.12.0"
  }
 },
 "nbformat": 4,
 "nbformat_minor": 5
}
