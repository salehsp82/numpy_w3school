{
 "cells": [
  {
   "cell_type": "code",
   "execution_count": 3,
   "id": "9640127c-6b2e-4544-a772-9303414c04bc",
   "metadata": {},
   "outputs": [],
   "source": [
    "from numpy import random\n",
    "import numpy as np"
   ]
  },
  {
   "cell_type": "code",
   "execution_count": 2,
   "id": "99cf256d-12c7-4877-960e-823f236de0db",
   "metadata": {},
   "outputs": [],
   "source": [
    "#Random Permutations of Elements"
   ]
  },
  {
   "cell_type": "code",
   "execution_count": 15,
   "id": "0c49266c-6507-4ee6-a3fb-602a5151b119",
   "metadata": {},
   "outputs": [
    {
     "name": "stdout",
     "output_type": "stream",
     "text": [
      "[2 3 7 4 2]\n"
     ]
    }
   ],
   "source": [
    "#Shuffling Arrays\n",
    "a1 = np.array([2 ,4 ,2 ,7 ,3])\n",
    "\n",
    "random.shuffle(a1)\n",
    "\n",
    "print(a1)"
   ]
  },
  {
   "cell_type": "code",
   "execution_count": 14,
   "id": "05aa68f2-807b-4dc8-9c54-495bfbc1bb4c",
   "metadata": {},
   "outputs": [
    {
     "name": "stdout",
     "output_type": "stream",
     "text": [
      "[1 6 2 3 7]\n"
     ]
    }
   ],
   "source": [
    "#Generating Permutation of Arrays\n",
    "a2 =np.array([1 ,6 ,7 ,3 ,2])\n",
    "\n",
    "print(random.permutation(a2))"
   ]
  }
 ],
 "metadata": {
  "kernelspec": {
   "display_name": "Python 3 (ipykernel)",
   "language": "python",
   "name": "python3"
  },
  "language_info": {
   "codemirror_mode": {
    "name": "ipython",
    "version": 3
   },
   "file_extension": ".py",
   "mimetype": "text/x-python",
   "name": "python",
   "nbconvert_exporter": "python",
   "pygments_lexer": "ipython3",
   "version": "3.12.0"
  }
 },
 "nbformat": 4,
 "nbformat_minor": 5
}
