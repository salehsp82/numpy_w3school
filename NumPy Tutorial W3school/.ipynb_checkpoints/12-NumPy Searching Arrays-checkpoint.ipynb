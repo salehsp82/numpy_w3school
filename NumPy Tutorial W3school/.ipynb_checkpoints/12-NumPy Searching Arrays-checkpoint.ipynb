{
 "cells": [
  {
   "cell_type": "code",
   "execution_count": 1,
   "id": "fe09dddc-1901-4e2e-9601-399ebe4e2a49",
   "metadata": {},
   "outputs": [],
   "source": [
    "import numpy as np"
   ]
  },
  {
   "cell_type": "code",
   "execution_count": 3,
   "id": "1e4b7e9d-e90b-42be-a9b2-3a19e46170d4",
   "metadata": {},
   "outputs": [
    {
     "name": "stdout",
     "output_type": "stream",
     "text": [
      "(array([3, 5, 6], dtype=int64),)\n"
     ]
    }
   ],
   "source": [
    "a1 = np.array([1 ,2 ,3 ,4 ,5 ,4 ,4])\n",
    "\n",
    "a2 = np.where(a1 == 4)\n",
    "\n",
    "print(a2)"
   ]
  },
  {
   "cell_type": "code",
   "execution_count": 4,
   "id": "55debe79-ed66-4c3d-890c-353f48c2cbeb",
   "metadata": {},
   "outputs": [],
   "source": [
    "#the value 4 is present at index 3, 5, and 6."
   ]
  },
  {
   "cell_type": "code",
   "execution_count": 6,
   "id": "c0451eee-b0d7-45e9-9997-584ef206ae50",
   "metadata": {},
   "outputs": [
    {
     "name": "stdout",
     "output_type": "stream",
     "text": [
      "(array([1, 3, 5, 6], dtype=int64),)\n"
     ]
    }
   ],
   "source": [
    "#Find the indexes where the values are even:\n",
    "\n",
    "a3 = np.array([1 ,2 ,3 ,4 ,5 ,8 ,10])\n",
    "\n",
    "a4 = np.where(a3 %2 == 0)\n",
    "\n",
    "#Find the indexes where the values are odd:\n",
    "#a4 = np.where(a3 %2 == 1)\n",
    "\n",
    "print(a4)"
   ]
  },
  {
   "cell_type": "code",
   "execution_count": 7,
   "id": "b88f7a2c-b212-4619-8ce6-190a52f9a616",
   "metadata": {},
   "outputs": [
    {
     "name": "stdout",
     "output_type": "stream",
     "text": [
      "2\n"
     ]
    }
   ],
   "source": [
    "#Search Sorted\n",
    "a5 = np.array([5 ,6 ,7 ,8])\n",
    "\n",
    "a6 = np.searchsorted(a5, 7)\n",
    "\n",
    "print(a6)"
   ]
  },
  {
   "cell_type": "code",
   "execution_count": 16,
   "id": "1674fd63-1079-4e4c-b583-56b072b8dc18",
   "metadata": {},
   "outputs": [
    {
     "name": "stdout",
     "output_type": "stream",
     "text": [
      "4\n"
     ]
    }
   ],
   "source": [
    "#Search From the Right Side\n",
    "a7 = np.array([0 ,6 , 7, 2, 9])\n",
    "\n",
    "a8 = np.searchsorted(a7 , 7 , side='right')\n",
    "\n",
    "print(a8)"
   ]
  },
  {
   "cell_type": "code",
   "execution_count": 17,
   "id": "aba131bc-d98f-4ce5-a9cb-4ecedcd3d823",
   "metadata": {},
   "outputs": [
    {
     "name": "stdout",
     "output_type": "stream",
     "text": [
      "[1 2 3]\n"
     ]
    }
   ],
   "source": [
    "#Multiple Values\n",
    "a9 = np.array([1, 3, 5, 7])\n",
    "\n",
    "a = np.searchsorted(a9, [2, 4, 6])\n",
    "\n",
    "print(a)"
   ]
  },
  {
   "cell_type": "code",
   "execution_count": null,
   "id": "4fd44eee-10f6-4b50-b05f-a787f66aeef8",
   "metadata": {},
   "outputs": [],
   "source": []
  }
 ],
 "metadata": {
  "kernelspec": {
   "display_name": "Python 3 (ipykernel)",
   "language": "python",
   "name": "python3"
  },
  "language_info": {
   "codemirror_mode": {
    "name": "ipython",
    "version": 3
   },
   "file_extension": ".py",
   "mimetype": "text/x-python",
   "name": "python",
   "nbconvert_exporter": "python",
   "pygments_lexer": "ipython3",
   "version": "3.12.0"
  }
 },
 "nbformat": 4,
 "nbformat_minor": 5
}
