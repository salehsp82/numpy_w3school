{
 "cells": [
  {
   "cell_type": "code",
   "execution_count": 4,
   "id": "64071838-4734-4d07-92b6-bb055da2beb6",
   "metadata": {},
   "outputs": [],
   "source": [
    "import numpy as np"
   ]
  },
  {
   "cell_type": "code",
   "execution_count": 9,
   "id": "958c7a62-9a95-4028-bf6e-045487a7dd23",
   "metadata": {},
   "outputs": [
    {
     "name": "stdout",
     "output_type": "stream",
     "text": [
      "[2 3 4 5 6 7 8 9]\n",
      "[1 2 3 4 5]\n",
      "[4 5 6 7 8 9]\n"
     ]
    }
   ],
   "source": [
    "#NumPy Array Slicing\n",
    "\n",
    "a1 = np.array([1 ,2 ,3 ,4 ,5 ,6 ,7 ,8 ,9])\n",
    "\n",
    "print(a1[1:9])\n",
    "print(a1[:5])\n",
    "print(a1[3:])"
   ]
  },
  {
   "cell_type": "code",
   "execution_count": 8,
   "id": "f555bd47-d8e9-4559-b803-efd670de4c28",
   "metadata": {},
   "outputs": [
    {
     "name": "stdout",
     "output_type": "stream",
     "text": [
      "[1 2 3 4 5 6 7 8]\n",
      "[7 8 9]\n",
      "[5 6 7]\n"
     ]
    }
   ],
   "source": [
    "#Negative Slicing\n",
    "print(a1[:-1])\n",
    "print(a1[-3:])\n",
    "print(a1[-5:-2])"
   ]
  },
  {
   "cell_type": "code",
   "execution_count": 12,
   "id": "c7967dc6-29ae-43d6-adf6-91e07c5ca4fb",
   "metadata": {},
   "outputs": [
    {
     "name": "stdout",
     "output_type": "stream",
     "text": [
      "[2 4 6 8]\n",
      "[1 4 7]\n"
     ]
    }
   ],
   "source": [
    "#Step\n",
    "print(a1[1:9:2])\n",
    "print(a1[::3])"
   ]
  },
  {
   "cell_type": "code",
   "execution_count": 21,
   "id": "af4d2e91-9a41-4fe7-8aae-124502d78da9",
   "metadata": {},
   "outputs": [
    {
     "name": "stdout",
     "output_type": "stream",
     "text": [
      "[5 6 7]\n"
     ]
    }
   ],
   "source": [
    "#Slicing 2-D Arrays\n",
    "\n",
    "a2 = np.array([[1 ,2 ,3 ,4],\n",
    "               [5 ,6 ,7 ,8]])\n",
    "\n",
    "print(a2[1, 0:3])"
   ]
  },
  {
   "cell_type": "code",
   "execution_count": 19,
   "id": "7226b867-7e8a-4e22-9d11-70502631ca6b",
   "metadata": {},
   "outputs": [
    {
     "name": "stdout",
     "output_type": "stream",
     "text": [
      "[[2 3 4]\n",
      " [6 7 8]]\n"
     ]
    }
   ],
   "source": [
    "print(a2[0:3 , 1:4])"
   ]
  },
  {
   "cell_type": "code",
   "execution_count": 17,
   "id": "4aa10c7d-eb6b-49d4-a381-f5bab4b4bb35",
   "metadata": {},
   "outputs": [
    {
     "name": "stdout",
     "output_type": "stream",
     "text": [
      "[3 7]\n"
     ]
    }
   ],
   "source": [
    "#برای اعمال رو هر دو عنصر\n",
    "\n",
    "print(a2[0:2, 2])"
   ]
  }
 ],
 "metadata": {
  "kernelspec": {
   "display_name": "Python 3 (ipykernel)",
   "language": "python",
   "name": "python3"
  },
  "language_info": {
   "codemirror_mode": {
    "name": "ipython",
    "version": 3
   },
   "file_extension": ".py",
   "mimetype": "text/x-python",
   "name": "python",
   "nbconvert_exporter": "python",
   "pygments_lexer": "ipython3",
   "version": "3.12.0"
  }
 },
 "nbformat": 4,
 "nbformat_minor": 5
}
