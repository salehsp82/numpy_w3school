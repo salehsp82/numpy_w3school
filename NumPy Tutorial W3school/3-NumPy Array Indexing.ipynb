{
 "cells": [
  {
   "cell_type": "code",
   "execution_count": 5,
   "id": "bb40e246-d874-4b8c-bd29-945655beaec1",
   "metadata": {},
   "outputs": [],
   "source": [
    "import numpy as np"
   ]
  },
  {
   "cell_type": "code",
   "execution_count": 15,
   "id": "02ba6967-b938-4f5e-998c-7282ba0b52d8",
   "metadata": {},
   "outputs": [
    {
     "name": "stdout",
     "output_type": "stream",
     "text": [
      "1\n",
      "4\n",
      "5\n"
     ]
    }
   ],
   "source": [
    "#Access Array Elements\n",
    "a1 = np.array([1, 2, 3, 4])\n",
    "\n",
    "# دسترسی به عناصر ارایه\n",
    "print(a1[0])\n",
    "\n",
    "print(a1[3])\n",
    "\n",
    "print(a1[1] + a1[2])"
   ]
  },
  {
   "cell_type": "code",
   "execution_count": 16,
   "id": "d118089d-7c5c-41e7-be12-75303147b9c2",
   "metadata": {},
   "outputs": [
    {
     "name": "stdout",
     "output_type": "stream",
     "text": [
      "3\n",
      "5\n"
     ]
    }
   ],
   "source": [
    "#Access 2-D Arrays\n",
    "#دسترسی به ارایه های دوبعدی\n",
    "\n",
    "a2 = np.array([[1 ,3 ,4],\n",
    "               [2 ,4 ,5]])\n",
    "\n",
    "#عدد اول مربوط به ردیف ارایه و عدد بعدی مربوط به عنصر\n",
    "print(a2[0,1])\n",
    "\n",
    "print(a2[1,2])"
   ]
  },
  {
   "cell_type": "code",
   "execution_count": 17,
   "id": "8a24351c-d324-4fb8-88ce-83f7f27a3241",
   "metadata": {},
   "outputs": [
    {
     "name": "stdout",
     "output_type": "stream",
     "text": [
      "6\n"
     ]
    }
   ],
   "source": [
    "#Access 3-D Arrays\n",
    "#دسترسی به ارایه  های سه بعدی\n",
    "\n",
    "a3 = np.array([[[1 ,2 ,33],[4 ,15 ,6]],[[71 ,8 ,92],[14 ,10 ,12]]])\n",
    "\n",
    "print(a3[0,1,2])"
   ]
  },
  {
   "cell_type": "code",
   "execution_count": 18,
   "id": "410b6ce6-b8c5-4684-bb4c-b91e66079b94",
   "metadata": {},
   "outputs": [
    {
     "name": "stdout",
     "output_type": "stream",
     "text": [
      "75\n"
     ]
    }
   ],
   "source": [
    "#Negative Indexing\n",
    "#نمایه سازی منفی برای دسترسی از انتها\n",
    "\n",
    "a4 = np.array([[23 ,52 ,6 ,84],[4 ,5 ,24 ,75]])\n",
    "\n",
    "print(a4[1,-1])"
   ]
  }
 ],
 "metadata": {
  "kernelspec": {
   "display_name": "Python 3 (ipykernel)",
   "language": "python",
   "name": "python3"
  },
  "language_info": {
   "codemirror_mode": {
    "name": "ipython",
    "version": 3
   },
   "file_extension": ".py",
   "mimetype": "text/x-python",
   "name": "python",
   "nbconvert_exporter": "python",
   "pygments_lexer": "ipython3",
   "version": "3.12.0"
  }
 },
 "nbformat": 4,
 "nbformat_minor": 5
}
