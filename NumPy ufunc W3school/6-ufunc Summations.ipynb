{
 "cells": [
  {
   "cell_type": "code",
   "execution_count": 1,
   "id": "294d52e5-898c-4f82-af30-73d578f885a5",
   "metadata": {},
   "outputs": [],
   "source": [
    "import numpy as np"
   ]
  },
  {
   "cell_type": "code",
   "execution_count": 8,
   "id": "23b01914-94eb-46e6-896a-2a87eb8dd931",
   "metadata": {},
   "outputs": [
    {
     "name": "stdout",
     "output_type": "stream",
     "text": [
      "[ 4  8 12]\n",
      "24\n"
     ]
    }
   ],
   "source": [
    "#Summations\n",
    "\n",
    "a1 = np.array([2 ,4 ,6])\n",
    "a2 = np.array([2 ,4 ,6])\n",
    "\n",
    "a3 = np.add(a1,a2)\n",
    "\n",
    "a4 = np.sum([a1,a2])\n",
    "\n",
    "print(a3)\n",
    "print(a4)"
   ]
  },
  {
   "cell_type": "code",
   "execution_count": 4,
   "id": "b956db4d-2248-4dd9-8bec-c5ca5c54f1f8",
   "metadata": {},
   "outputs": [
    {
     "name": "stdout",
     "output_type": "stream",
     "text": [
      "[12 12]\n"
     ]
    }
   ],
   "source": [
    "#Summation Over an Axis\n",
    "a1 = np.array([2 ,4 ,6])\n",
    "a2 = np.array([2 ,4 ,6])\n",
    "\n",
    "a3 = np.sum([a1,a2],axis=1)\n",
    "\n",
    "print(a3)"
   ]
  },
  {
   "cell_type": "code",
   "execution_count": 7,
   "id": "34b2172a-9e7e-4b7e-96a2-70d49ce2dd53",
   "metadata": {},
   "outputs": [
    {
     "name": "stdout",
     "output_type": "stream",
     "text": [
      "[ 2  6 12 20]\n"
     ]
    }
   ],
   "source": [
    "#Cummulative Sum\n",
    "\n",
    "a = np.array([2 ,4 ,6 ,8])\n",
    "\n",
    "b = np.cumsum(a)\n",
    "\n",
    "print(b)"
   ]
  },
  {
   "cell_type": "code",
   "execution_count": null,
   "id": "d5320727-4077-4ac7-b4d3-c705a5d2c54a",
   "metadata": {},
   "outputs": [],
   "source": []
  }
 ],
 "metadata": {
  "kernelspec": {
   "display_name": "Python 3 (ipykernel)",
   "language": "python",
   "name": "python3"
  },
  "language_info": {
   "codemirror_mode": {
    "name": "ipython",
    "version": 3
   },
   "file_extension": ".py",
   "mimetype": "text/x-python",
   "name": "python",
   "nbconvert_exporter": "python",
   "pygments_lexer": "ipython3",
   "version": "3.12.0"
  }
 },
 "nbformat": 4,
 "nbformat_minor": 5
}
