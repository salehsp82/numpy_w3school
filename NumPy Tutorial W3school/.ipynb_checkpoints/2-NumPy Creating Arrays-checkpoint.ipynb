{
 "cells": [
  {
   "cell_type": "code",
   "execution_count": 6,
   "id": "3f5085c4-bce7-4ce4-8a2c-1dc5abe57373",
   "metadata": {},
   "outputs": [],
   "source": [
    "import numpy as np"
   ]
  },
  {
   "cell_type": "code",
   "execution_count": 4,
   "id": "2f562102-719b-4b47-97a5-bbb94a5908c4",
   "metadata": {},
   "outputs": [
    {
     "name": "stdout",
     "output_type": "stream",
     "text": [
      "<class 'numpy.ndarray'>\n",
      "[1 2 3 4 5]\n"
     ]
    }
   ],
   "source": [
    "# Create Numpy Array\n",
    "\n",
    "a1 = np.array([1 ,2 ,3 ,4 ,5])\n",
    "\n",
    "print(type(a1))\n",
    "\n",
    "print(a1)"
   ]
  },
  {
   "cell_type": "code",
   "execution_count": 5,
   "id": "27acd3b6-ad2a-4e35-8ed4-b0d668dbda02",
   "metadata": {},
   "outputs": [
    {
     "name": "stdout",
     "output_type": "stream",
     "text": [
      "<class 'numpy.ndarray'>\n",
      "[1 2 3 4]\n"
     ]
    }
   ],
   "source": [
    "# Create NumPy Array Tuple\n",
    "\n",
    "a2 = np.array((1 ,2 ,3 ,4))\n",
    "\n",
    "print(type(a2))\n",
    "\n",
    "print(a2)"
   ]
  },
  {
   "cell_type": "code",
   "execution_count": 7,
   "id": "45bd557e-4ed1-41d9-a362-174b757c9222",
   "metadata": {},
   "outputs": [
    {
     "name": "stdout",
     "output_type": "stream",
     "text": [
      "43\n"
     ]
    }
   ],
   "source": [
    "# Value\n",
    "\n",
    "a3 = np.array(43)\n",
    "\n",
    "print(a3)"
   ]
  },
  {
   "cell_type": "code",
   "execution_count": 10,
   "id": "e41b3f75-0123-4913-9028-caf6e537d953",
   "metadata": {},
   "outputs": [
    {
     "name": "stdout",
     "output_type": "stream",
     "text": [
      "[[1 2 3 4]\n",
      " [5 6 7 8]]\n"
     ]
    }
   ],
   "source": [
    "# Two Array\n",
    "\n",
    "a4 = np.array([[1 ,2 ,3 ,4],[5 ,6 ,7 ,8]])\n",
    "\n",
    "print(a4)"
   ]
  },
  {
   "cell_type": "code",
   "execution_count": 11,
   "id": "e2cd5962-889a-48dc-9e7e-78a9ca6d2e2e",
   "metadata": {},
   "outputs": [
    {
     "name": "stdout",
     "output_type": "stream",
     "text": [
      "[[[1 2 3]\n",
      "  [4 5 6]]\n",
      "\n",
      " [[1 2 3]\n",
      "  [4 5 6]]]\n"
     ]
    }
   ],
   "source": [
    "a5 = np.array([[[1, 2, 3], [4, 5, 6]], [[1, 2, 3], [4, 5, 6]]])\n",
    "\n",
    "print(a5)"
   ]
  },
  {
   "cell_type": "code",
   "execution_count": 12,
   "id": "1eb2148d-a571-42e9-b673-d8733ca38680",
   "metadata": {},
   "outputs": [
    {
     "name": "stdout",
     "output_type": "stream",
     "text": [
      "1\n",
      "1\n",
      "0\n",
      "2\n",
      "3\n"
     ]
    }
   ],
   "source": [
    "# Check how many dimensions the arrays have\n",
    "\n",
    "print(a1.ndim)\n",
    "print(a2.ndim)\n",
    "print(a3.ndim)\n",
    "print(a4.ndim)\n",
    "print(a5.ndim)"
   ]
  },
  {
   "cell_type": "code",
   "execution_count": 18,
   "id": "8d5da418-73f1-4d9f-9f42-d23f2229dc44",
   "metadata": {},
   "outputs": [
    {
     "name": "stdout",
     "output_type": "stream",
     "text": [
      "[[[[[[[1 2 5 4]]]]]]]\n",
      "number dimension: 7\n"
     ]
    }
   ],
   "source": [
    "# Create an array with 5 dimensions and verify that it has 5 dimensions\n",
    "\n",
    "a6 = np.array([1, 2, 5, 4], ndmin=7)\n",
    "\n",
    "print(a6)\n",
    "\n",
    "print(\"number dimension:\",a6.ndim)"
   ]
  },
  {
   "cell_type": "code",
   "execution_count": null,
   "id": "3aff4bb7-5f95-4cef-812e-30561b7002c7",
   "metadata": {},
   "outputs": [],
   "source": []
  }
 ],
 "metadata": {
  "kernelspec": {
   "display_name": "Python 3 (ipykernel)",
   "language": "python",
   "name": "python3"
  },
  "language_info": {
   "codemirror_mode": {
    "name": "ipython",
    "version": 3
   },
   "file_extension": ".py",
   "mimetype": "text/x-python",
   "name": "python",
   "nbconvert_exporter": "python",
   "pygments_lexer": "ipython3",
   "version": "3.12.0"
  }
 },
 "nbformat": 4,
 "nbformat_minor": 5
}
