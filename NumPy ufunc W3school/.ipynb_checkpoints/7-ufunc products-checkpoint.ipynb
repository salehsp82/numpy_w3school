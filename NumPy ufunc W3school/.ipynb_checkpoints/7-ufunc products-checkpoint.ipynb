{
 "cells": [
  {
   "cell_type": "code",
   "execution_count": 1,
   "id": "158e910d-c5b2-458f-819c-8d4002a69db1",
   "metadata": {},
   "outputs": [],
   "source": [
    "import numpy as np"
   ]
  },
  {
   "cell_type": "code",
   "execution_count": 10,
   "id": "4b8e9a50-1e09-4a97-a3c0-d3caf487dc2e",
   "metadata": {},
   "outputs": [
    {
     "name": "stdout",
     "output_type": "stream",
     "text": [
      "105\n"
     ]
    }
   ],
   "source": [
    "a = np.array([1 ,3 ,5 ,7])\n",
    "\n",
    "b = np.prod(a)\n",
    "\n",
    "print(b)"
   ]
  },
  {
   "cell_type": "code",
   "execution_count": 11,
   "id": "47b91c2c-d015-4563-bb5a-6664eb37d3e0",
   "metadata": {},
   "outputs": [
    {
     "name": "stdout",
     "output_type": "stream",
     "text": [
      "40320\n"
     ]
    }
   ],
   "source": [
    "a1 = np.array([2 ,4 ,6 ,8])\n",
    "a2 = np.array([1 ,3 ,5 ,7])\n",
    "\n",
    "b1 = np.prod([a1,a2])\n",
    "\n",
    "print(b1)"
   ]
  },
  {
   "cell_type": "code",
   "execution_count": 5,
   "id": "07575c40-6487-4aa9-bd11-f6a18df8c31a",
   "metadata": {},
   "outputs": [
    {
     "name": "stdout",
     "output_type": "stream",
     "text": [
      "[384 105]\n"
     ]
    }
   ],
   "source": [
    "#Product Over an Axis\n",
    "a1 = np.array([2 ,4 ,6 ,8])\n",
    "a2 = np.array([1 ,3 ,5 ,7])\n",
    "\n",
    "b2 = np.prod([a1,a2],axis=1)\n",
    "\n",
    "print(b2)"
   ]
  },
  {
   "cell_type": "code",
   "execution_count": 12,
   "id": "95ac0f9e-6e25-48b9-9691-2b147ecfadcd",
   "metadata": {},
   "outputs": [
    {
     "name": "stdout",
     "output_type": "stream",
     "text": [
      "[  1   2   6  24 120]\n"
     ]
    }
   ],
   "source": [
    "#Cummulative Product\n",
    "a3 = np.array([1 , 2 ,3 ,4 ,5])\n",
    "\n",
    "b3 = np.cumprod(a3)\n",
    "\n",
    "print(b3)"
   ]
  },
  {
   "cell_type": "code",
   "execution_count": null,
   "id": "bc4e4f3e-f38e-4b17-a994-1d24023a082a",
   "metadata": {},
   "outputs": [],
   "source": []
  }
 ],
 "metadata": {
  "kernelspec": {
   "display_name": "Python 3 (ipykernel)",
   "language": "python",
   "name": "python3"
  },
  "language_info": {
   "codemirror_mode": {
    "name": "ipython",
    "version": 3
   },
   "file_extension": ".py",
   "mimetype": "text/x-python",
   "name": "python",
   "nbconvert_exporter": "python",
   "pygments_lexer": "ipython3",
   "version": "3.12.0"
  }
 },
 "nbformat": 4,
 "nbformat_minor": 5
}
