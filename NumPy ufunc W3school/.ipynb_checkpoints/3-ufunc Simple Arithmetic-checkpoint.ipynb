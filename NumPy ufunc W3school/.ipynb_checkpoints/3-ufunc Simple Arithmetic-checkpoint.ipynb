{
 "cells": [
  {
   "cell_type": "code",
   "execution_count": 2,
   "id": "c327dfdb-db69-4ae6-8203-9812d4f0c9b7",
   "metadata": {},
   "outputs": [],
   "source": [
    "import numpy as np"
   ]
  },
  {
   "cell_type": "code",
   "execution_count": 3,
   "id": "a202fb4c-e622-419b-b2dd-04a3f93205e7",
   "metadata": {},
   "outputs": [
    {
     "name": "stdout",
     "output_type": "stream",
     "text": [
      "[ 54 120 132  55 111]\n"
     ]
    }
   ],
   "source": [
    "#Addition\n",
    "a1 = np.array([12 ,44 ,34 ,23 ,23])\n",
    "a2 = np.array([42 ,76 ,98 ,32 ,88])\n",
    "\n",
    "a3 = np.add(a1,a2)\n",
    "\n",
    "print(a3)"
   ]
  },
  {
   "cell_type": "code",
   "execution_count": null,
   "id": "9e2aa632-df29-4a75-9358-1187e3ccbe8e",
   "metadata": {},
   "outputs": [],
   "source": []
  }
 ],
 "metadata": {
  "kernelspec": {
   "display_name": "Python 3 (ipykernel)",
   "language": "python",
   "name": "python3"
  },
  "language_info": {
   "codemirror_mode": {
    "name": "ipython",
    "version": 3
   },
   "file_extension": ".py",
   "mimetype": "text/x-python",
   "name": "python",
   "nbconvert_exporter": "python",
   "pygments_lexer": "ipython3",
   "version": "3.12.0"
  }
 },
 "nbformat": 4,
 "nbformat_minor": 5
}
