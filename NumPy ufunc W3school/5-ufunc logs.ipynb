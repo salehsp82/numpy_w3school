{
 "cells": [
  {
   "cell_type": "code",
   "execution_count": 1,
   "id": "25b5507c-a677-47d3-a28c-8731698959c5",
   "metadata": {},
   "outputs": [],
   "source": [
    "import numpy as np"
   ]
  },
  {
   "cell_type": "code",
   "execution_count": 3,
   "id": "2a0c38ed-07b6-466b-9a2b-10894a84c596",
   "metadata": {},
   "outputs": [
    {
     "name": "stdout",
     "output_type": "stream",
     "text": [
      "[0.         1.         1.5849625  2.         2.32192809 2.5849625\n",
      " 2.80735492 3.         3.169925  ]\n"
     ]
    }
   ],
   "source": [
    "#Log at Base 2\n",
    "\n",
    "a1 = np.arange(1,10)\n",
    "\n",
    "print(np.log2(a1))"
   ]
  },
  {
   "cell_type": "code",
   "execution_count": 4,
   "id": "4acfd708-eba6-41f0-8fd2-9333260ef3f0",
   "metadata": {},
   "outputs": [
    {
     "name": "stdout",
     "output_type": "stream",
     "text": [
      "[0.         0.30103    0.47712125 0.60205999 0.69897    0.77815125\n",
      " 0.84509804 0.90308999 0.95424251]\n"
     ]
    }
   ],
   "source": [
    "#Log at Base 10\n",
    "\n",
    "a2 = np.arange(1,10)\n",
    "\n",
    "print(np.log10(a2))"
   ]
  },
  {
   "cell_type": "code",
   "execution_count": 6,
   "id": "aa6acd06-7326-4906-842b-07f2b0051fe5",
   "metadata": {},
   "outputs": [
    {
     "name": "stdout",
     "output_type": "stream",
     "text": [
      "[0.         0.69314718 1.09861229 1.38629436 1.60943791 1.79175947\n",
      " 1.94591015 2.07944154 2.19722458]\n"
     ]
    }
   ],
   "source": [
    "#Natural Log, or Log at Base e\n",
    "\n",
    "a3 = np.arange(1,10)\n",
    "\n",
    "print(np.log(a3))"
   ]
  },
  {
   "cell_type": "code",
   "execution_count": 7,
   "id": "1f6c03fd-a98e-4b23-ae44-28914f4a2209",
   "metadata": {},
   "outputs": [
    {
     "name": "stdout",
     "output_type": "stream",
     "text": [
      "1.7005483074552052\n"
     ]
    }
   ],
   "source": [
    "#Log at Any Base\n",
    "from math import log\n",
    "\n",
    "a4 = np.frompyfunc(log,2,1)\n",
    "\n",
    "print(a4(100,15))"
   ]
  },
  {
   "cell_type": "code",
   "execution_count": null,
   "id": "54c10f3a-3adf-4121-81f8-eaea3d4f8373",
   "metadata": {},
   "outputs": [],
   "source": []
  }
 ],
 "metadata": {
  "kernelspec": {
   "display_name": "Python 3 (ipykernel)",
   "language": "python",
   "name": "python3"
  },
  "language_info": {
   "codemirror_mode": {
    "name": "ipython",
    "version": 3
   },
   "file_extension": ".py",
   "mimetype": "text/x-python",
   "name": "python",
   "nbconvert_exporter": "python",
   "pygments_lexer": "ipython3",
   "version": "3.12.0"
  }
 },
 "nbformat": 4,
 "nbformat_minor": 5
}
