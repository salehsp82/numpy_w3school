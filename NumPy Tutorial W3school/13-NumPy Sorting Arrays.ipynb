{
 "cells": [
  {
   "cell_type": "code",
   "execution_count": 1,
   "id": "9765910e-a0fe-4d6f-83b7-5c5f71ae2d6d",
   "metadata": {},
   "outputs": [],
   "source": [
    "import numpy as np"
   ]
  },
  {
   "cell_type": "code",
   "execution_count": 2,
   "id": "7a50862d-0b3d-488a-bc06-eefb59a44ed8",
   "metadata": {},
   "outputs": [
    {
     "name": "stdout",
     "output_type": "stream",
     "text": [
      "[0 1 2 3]\n"
     ]
    }
   ],
   "source": [
    "a1 = np.array([3, 2, 0, 1])\n",
    "\n",
    "print(np.sort(a1))"
   ]
  },
  {
   "cell_type": "code",
   "execution_count": 3,
   "id": "63ed3ff3-d19d-4044-8814-3e6fc78bce2c",
   "metadata": {},
   "outputs": [
    {
     "name": "stdout",
     "output_type": "stream",
     "text": [
      "['a' 'c' 'd' 'g']\n"
     ]
    }
   ],
   "source": [
    "a2 = np.array([\"d\",\"g\",\"a\",\"c\"])\n",
    "\n",
    "print(np.sort(a2))"
   ]
  },
  {
   "cell_type": "code",
   "execution_count": 4,
   "id": "a5bee6e3-6eba-4187-8933-7015e691ed55",
   "metadata": {},
   "outputs": [
    {
     "name": "stdout",
     "output_type": "stream",
     "text": [
      "[False  True  True  True]\n"
     ]
    }
   ],
   "source": [
    "a3 = np.array([True,True,False,True])\n",
    "\n",
    "print(np.sort(a3))"
   ]
  },
  {
   "cell_type": "code",
   "execution_count": 5,
   "id": "a60c7628-38c8-4023-9909-dbfc6f734e9a",
   "metadata": {},
   "outputs": [
    {
     "name": "stdout",
     "output_type": "stream",
     "text": [
      "[[2 4 6]\n",
      " [1 3 5]]\n"
     ]
    }
   ],
   "source": [
    "a4 = np.array([[4,6,2],[1,5,3]])\n",
    "\n",
    "print(np.sort(a4))"
   ]
  },
  {
   "cell_type": "code",
   "execution_count": null,
   "id": "d788e96a-9934-4e6c-9e37-87afc90d642c",
   "metadata": {},
   "outputs": [],
   "source": []
  }
 ],
 "metadata": {
  "kernelspec": {
   "display_name": "Python 3 (ipykernel)",
   "language": "python",
   "name": "python3"
  },
  "language_info": {
   "codemirror_mode": {
    "name": "ipython",
    "version": 3
   },
   "file_extension": ".py",
   "mimetype": "text/x-python",
   "name": "python",
   "nbconvert_exporter": "python",
   "pygments_lexer": "ipython3",
   "version": "3.12.0"
  }
 },
 "nbformat": 4,
 "nbformat_minor": 5
}
