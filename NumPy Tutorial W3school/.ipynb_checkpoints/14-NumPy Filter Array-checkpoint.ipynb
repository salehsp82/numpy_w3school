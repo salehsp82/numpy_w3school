{
 "cells": [
  {
   "cell_type": "code",
   "execution_count": 2,
   "id": "2b91c59c-972c-4675-994c-8db3628b5bf0",
   "metadata": {},
   "outputs": [],
   "source": [
    "import numpy as np"
   ]
  },
  {
   "cell_type": "code",
   "execution_count": 4,
   "id": "f06ebd5a-4c13-4751-b6ed-72a0761d857f",
   "metadata": {},
   "outputs": [
    {
     "name": "stdout",
     "output_type": "stream",
     "text": [
      "[23 24 25]\n"
     ]
    }
   ],
   "source": [
    "a1 = np.array([23 ,45 ,24 ,25])\n",
    "\n",
    "a2 = [True,False,True,True]\n",
    "\n",
    "a3 = a1[a2]\n",
    "\n",
    "print(a3)"
   ]
  },
  {
   "cell_type": "code",
   "execution_count": 5,
   "id": "abaaf429-635c-4917-afa4-099620479c4c",
   "metadata": {},
   "outputs": [
    {
     "name": "stdout",
     "output_type": "stream",
     "text": [
      "[False, False, True, True, True]\n",
      "[43 44 45]\n"
     ]
    }
   ],
   "source": [
    "#Creating the Filter Array\n",
    "a1 = np.array([41 ,42 ,43 ,44 ,45])\n",
    "\n",
    "filter = []\n",
    "\n",
    "for element in a1:\n",
    "    if element > 42:\n",
    "        filter.append(True)\n",
    "    else :\n",
    "        filter.append(False)\n",
    "\n",
    "a2 = a1[filter]\n",
    "\n",
    "print(filter)\n",
    "print(a2)"
   ]
  },
  {
   "cell_type": "code",
   "execution_count": 6,
   "id": "17f61594-4dbb-4b8f-b513-5c979d197ab5",
   "metadata": {},
   "outputs": [
    {
     "name": "stdout",
     "output_type": "stream",
     "text": [
      "[False, True, False, True, False, True, False]\n",
      "[2 4 6]\n"
     ]
    }
   ],
   "source": [
    "a1 = np.array([1 ,2 ,3 ,4,5 ,6 ,7])\n",
    "\n",
    "filter = []\n",
    "\n",
    "for element in a1:\n",
    "    if element % 2 == 0:\n",
    "        filter.append(True)\n",
    "    else:\n",
    "        filter.append(False)\n",
    "\n",
    "a2 = a1[filter]\n",
    "\n",
    "print(filter)\n",
    "print(a2)"
   ]
  },
  {
   "cell_type": "code",
   "execution_count": 8,
   "id": "5c1a5d0a-82d5-498f-9573-281c3782eca4",
   "metadata": {},
   "outputs": [
    {
     "name": "stdout",
     "output_type": "stream",
     "text": [
      "[ True  True False False  True  True]\n",
      "[46 88 55 66]\n"
     ]
    }
   ],
   "source": [
    "#Creating Filter Directly From Array\n",
    "\n",
    "a1 = np.array([46 , 88 ,33 ,22 ,55 ,66])\n",
    "\n",
    "filter = a1 > 40\n",
    "\n",
    "a2 = a1[filter]\n",
    "\n",
    "print(filter)\n",
    "print(a2)"
   ]
  },
  {
   "cell_type": "code",
   "execution_count": 9,
   "id": "6f23f344-6e91-4f3c-a7a5-3f25f29bb3bc",
   "metadata": {},
   "outputs": [
    {
     "name": "stdout",
     "output_type": "stream",
     "text": [
      "[False  True False False  True  True  True False]\n",
      "[54 74 22 78]\n"
     ]
    }
   ],
   "source": [
    "a1 = np.array([11 ,54 ,73 ,35 ,74 ,22 ,78 ,23])\n",
    "\n",
    "filter = a1 % 2 == 0\n",
    "\n",
    "a2 = a1[filter]\n",
    "\n",
    "print(filter)\n",
    "print(a2)"
   ]
  },
  {
   "cell_type": "code",
   "execution_count": null,
   "id": "7bd6809b-7397-46a4-af61-7a4df839703a",
   "metadata": {},
   "outputs": [],
   "source": []
  }
 ],
 "metadata": {
  "kernelspec": {
   "display_name": "Python 3 (ipykernel)",
   "language": "python",
   "name": "python3"
  },
  "language_info": {
   "codemirror_mode": {
    "name": "ipython",
    "version": 3
   },
   "file_extension": ".py",
   "mimetype": "text/x-python",
   "name": "python",
   "nbconvert_exporter": "python",
   "pygments_lexer": "ipython3",
   "version": "3.12.0"
  }
 },
 "nbformat": 4,
 "nbformat_minor": 5
}
