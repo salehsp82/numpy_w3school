{
 "cells": [
  {
   "cell_type": "code",
   "execution_count": 2,
   "id": "c327dfdb-db69-4ae6-8203-9812d4f0c9b7",
   "metadata": {},
   "outputs": [],
   "source": [
    "import numpy as np"
   ]
  },
  {
   "cell_type": "code",
   "execution_count": 3,
   "id": "a202fb4c-e622-419b-b2dd-04a3f93205e7",
   "metadata": {},
   "outputs": [
    {
     "name": "stdout",
     "output_type": "stream",
     "text": [
      "[ 54 120 132  55 111]\n"
     ]
    }
   ],
   "source": [
    "#Addition\n",
    "a1 = np.array([12 ,44 ,34 ,23 ,23])\n",
    "a2 = np.array([42 ,76 ,98 ,32 ,88])\n",
    "\n",
    "a3 = np.add(a1,a2)\n",
    "\n",
    "print(a3)"
   ]
  },
  {
   "cell_type": "code",
   "execution_count": 7,
   "id": "9e2aa632-df29-4a75-9358-1187e3ccbe8e",
   "metadata": {},
   "outputs": [
    {
     "name": "stdout",
     "output_type": "stream",
     "text": [
      "[-23  16 -36  51]\n"
     ]
    }
   ],
   "source": [
    "#Subtraction\n",
    "a1 = np.array([12 ,32 ,42 ,62])\n",
    "a2 = np.array([35 ,16 ,78 ,11])\n",
    "\n",
    "a3 = np.subtract(a1,a2)\n",
    "\n",
    "print(a3)"
   ]
  },
  {
   "cell_type": "code",
   "execution_count": 8,
   "id": "0a7eaa5a-cef7-4f78-9cdb-3e1f051b8e9e",
   "metadata": {},
   "outputs": [
    {
     "name": "stdout",
     "output_type": "stream",
     "text": [
      "[10 24 12  7]\n"
     ]
    }
   ],
   "source": [
    "#Multiplication\n",
    "a1 = np.array([2 ,4 ,6 ,7])\n",
    "a2 = np.array([5 ,6 ,2 ,1])\n",
    "\n",
    "a3 = np.multiply(a1,a2)\n",
    "\n",
    "print(a3)"
   ]
  },
  {
   "cell_type": "code",
   "execution_count": 10,
   "id": "40b4ad60-e057-446f-b427-7074255d38ed",
   "metadata": {},
   "outputs": [
    {
     "name": "stdout",
     "output_type": "stream",
     "text": [
      "[3.         4.58333333 2.         5.        ]\n"
     ]
    }
   ],
   "source": [
    "#Division\n",
    "a1 = np.array([21,55,12,15])\n",
    "a2 = np.array([7 ,12 ,6 ,3])\n",
    "\n",
    "a3 = np.divide(a1,a2)\n",
    "\n",
    "print(a3)"
   ]
  },
  {
   "cell_type": "code",
   "execution_count": 12,
   "id": "d3546dcc-50a4-42f5-bc01-d0c7cc1eff38",
   "metadata": {},
   "outputs": [
    {
     "name": "stdout",
     "output_type": "stream",
     "text": [
      "[     64 2560000    4096  216000 3200000]\n"
     ]
    }
   ],
   "source": [
    "#power توان\n",
    "a1 = np.array([8 ,40 ,4 ,60 ,20])\n",
    "a2 = np.array([2 ,4 ,6 ,3 ,5 ])\n",
    "\n",
    "a3 = np.power(a1,a2)\n",
    "\n",
    "print(a3)"
   ]
  },
  {
   "cell_type": "code",
   "execution_count": 13,
   "id": "e44c2e97-ad4a-4b83-9340-c51149a769c2",
   "metadata": {},
   "outputs": [
    {
     "name": "stdout",
     "output_type": "stream",
     "text": [
      "[ 0  0  8  3  1 22]\n",
      "[ 0  0  8  3  1 22]\n"
     ]
    }
   ],
   "source": [
    "#Remainder\n",
    "a1 = np.array([12, 21, 35, 43, 57, 88])\n",
    "a2 = np.array([3, 7, 9, 8, 2, 33])\n",
    "\n",
    "a3 = np.mod(a1,a2)\n",
    "\n",
    "a4 = np.remainder(a1,a2)\n",
    "\n",
    "print(a3)\n",
    "print(a4)"
   ]
  },
  {
   "cell_type": "code",
   "execution_count": 14,
   "id": "fce70530-a0b2-4211-b35b-05969a04fc46",
   "metadata": {},
   "outputs": [
    {
     "name": "stdout",
     "output_type": "stream",
     "text": [
      "(array([4, 3, 3, 3, 2]), array([0, 0, 7, 2, 4]))\n"
     ]
    }
   ],
   "source": [
    "#Quotient and Mod\n",
    "a1 = np.array([20,12,43,14,16])\n",
    "a2 = np.array([5 ,4 ,12 ,4 ,6])\n",
    "\n",
    "a3 = np.divmod(a1,a2)\n",
    "\n",
    "print(a3)"
   ]
  },
  {
   "cell_type": "code",
   "execution_count": 17,
   "id": "92036863-e573-45aa-abd2-7aa5f49d0634",
   "metadata": {},
   "outputs": [
    {
     "name": "stdout",
     "output_type": "stream",
     "text": [
      "[1 2 1 4 5]\n",
      "[1 2 1 4 5]\n"
     ]
    }
   ],
   "source": [
    "#Absolute Values\n",
    "a1 = np.array([-1,-2,1 ,4 ,-5])\n",
    "\n",
    "a2 = np.absolute(a1)\n",
    "\n",
    "a3 = np.abs(a1)\n",
    "\n",
    "print(a2)\n",
    "print(a3)"
   ]
  },
  {
   "cell_type": "code",
   "execution_count": null,
   "id": "a0319537-4ad6-4871-878a-2215284afea2",
   "metadata": {},
   "outputs": [],
   "source": []
  }
 ],
 "metadata": {
  "kernelspec": {
   "display_name": "Python 3 (ipykernel)",
   "language": "python",
   "name": "python3"
  },
  "language_info": {
   "codemirror_mode": {
    "name": "ipython",
    "version": 3
   },
   "file_extension": ".py",
   "mimetype": "text/x-python",
   "name": "python",
   "nbconvert_exporter": "python",
   "pygments_lexer": "ipython3",
   "version": "3.12.0"
  }
 },
 "nbformat": 4,
 "nbformat_minor": 5
}
