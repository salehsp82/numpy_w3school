{
 "cells": [
  {
   "cell_type": "code",
   "execution_count": 1,
   "id": "efdb5f0a-3a0e-47e0-bd30-a28e176c10a0",
   "metadata": {},
   "outputs": [],
   "source": [
    "import numpy as np"
   ]
  },
  {
   "cell_type": "code",
   "execution_count": 5,
   "id": "78eb6d88-b65c-4133-b398-b4a98913a47c",
   "metadata": {},
   "outputs": [
    {
     "name": "stdout",
     "output_type": "stream",
     "text": [
      "[1 2 3 4 5 6 7 8]\n"
     ]
    }
   ],
   "source": [
    "#Join two arrays\n",
    "\n",
    "a1 = np.array([1 ,2 ,3 ,4])\n",
    "\n",
    "a2 = np.array([5 ,6 ,7 ,8])\n",
    "\n",
    "a3 = np.concatenate((a1, a2))\n",
    "\n",
    "print(a3)"
   ]
  },
  {
   "cell_type": "code",
   "execution_count": 9,
   "id": "97a61074-47f5-49cf-ba9a-62c429343412",
   "metadata": {},
   "outputs": [
    {
     "name": "stdout",
     "output_type": "stream",
     "text": [
      "[[1 2 5 6]\n",
      " [3 4 7 8]]\n"
     ]
    }
   ],
   "source": [
    "a4 = np.array([[1, 2], [3, 4]])\n",
    "\n",
    "a5 = np.array([[5, 6], [7, 8]])\n",
    "\n",
    "a6 = np.concatenate((a4 ,a5), axis=1)\n",
    "\n",
    "print(a6)"
   ]
  },
  {
   "cell_type": "code",
   "execution_count": 17,
   "id": "1bf87d13-0f28-41ed-ab6f-dceecc7cda5f",
   "metadata": {},
   "outputs": [
    {
     "name": "stdout",
     "output_type": "stream",
     "text": [
      "[[4 1]\n",
      " [5 2]\n",
      " [6 3]]\n"
     ]
    }
   ],
   "source": [
    "#Joining Arrays Using Stack Functions\n",
    "a8 = np.array([1, 2, 3])\n",
    "\n",
    "a7 = np.array([4, 5, 6])\n",
    "\n",
    "a9 = np.stack((a7 ,a8),axis=1)\n",
    "\n",
    "print(a9)"
   ]
  },
  {
   "cell_type": "code",
   "execution_count": 19,
   "id": "f053947d-45c0-4383-84b6-2c4f4136a031",
   "metadata": {},
   "outputs": [
    {
     "name": "stdout",
     "output_type": "stream",
     "text": [
      "[1 2 3 4 5 6]\n"
     ]
    }
   ],
   "source": [
    "#Stacking Along Rows\n",
    "a1 = np.array([1, 2, 3])\n",
    "\n",
    "a2 = np.array([4, 5, 6])\n",
    "\n",
    "a3 = np.hstack((a1 ,a2))\n",
    "\n",
    "print(a3)"
   ]
  },
  {
   "cell_type": "code",
   "execution_count": 21,
   "id": "7e5900c2-c9e3-4e64-9213-7891a844ba62",
   "metadata": {},
   "outputs": [
    {
     "name": "stdout",
     "output_type": "stream",
     "text": [
      "[[1 2 3]\n",
      " [4 5 6]]\n"
     ]
    }
   ],
   "source": [
    "#Stacking Along Columns\n",
    "a1 = np.array([1, 2, 3])\n",
    "\n",
    "a2 = np.array([4, 5, 6])\n",
    "\n",
    "a3 = np.vstack((a1 ,a2))\n",
    "\n",
    "print(a3)"
   ]
  },
  {
   "cell_type": "code",
   "execution_count": 22,
   "id": "160b35e4-67eb-4020-b884-ff918482df25",
   "metadata": {},
   "outputs": [
    {
     "name": "stdout",
     "output_type": "stream",
     "text": [
      "[[[1 4]\n",
      "  [2 5]\n",
      "  [3 6]]]\n"
     ]
    }
   ],
   "source": [
    "#Stacking Along Height (depth)\n",
    "a1 = np.array([1, 2, 3])\n",
    "\n",
    "a2 = np.array([4, 5, 6])\n",
    "\n",
    "a3 = np.dstack((a1 ,a2))\n",
    "\n",
    "print(a3)"
   ]
  },
  {
   "cell_type": "code",
   "execution_count": null,
   "id": "9e4eee5d-0b46-41cf-b907-fda5dc38bdb5",
   "metadata": {},
   "outputs": [],
   "source": []
  }
 ],
 "metadata": {
  "kernelspec": {
   "display_name": "Python 3 (ipykernel)",
   "language": "python",
   "name": "python3"
  },
  "language_info": {
   "codemirror_mode": {
    "name": "ipython",
    "version": 3
   },
   "file_extension": ".py",
   "mimetype": "text/x-python",
   "name": "python",
   "nbconvert_exporter": "python",
   "pygments_lexer": "ipython3",
   "version": "3.12.0"
  }
 },
 "nbformat": 4,
 "nbformat_minor": 5
}
