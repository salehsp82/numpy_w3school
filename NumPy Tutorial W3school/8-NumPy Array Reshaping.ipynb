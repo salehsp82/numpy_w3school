{
 "cells": [
  {
   "cell_type": "code",
   "execution_count": 1,
   "id": "7de4db62-4093-45bb-885b-465c75072f0e",
   "metadata": {},
   "outputs": [],
   "source": [
    "import numpy as np"
   ]
  },
  {
   "cell_type": "code",
   "execution_count": 5,
   "id": "ac019458-853b-463d-9bb1-8b5916d59bc1",
   "metadata": {},
   "outputs": [
    {
     "name": "stdout",
     "output_type": "stream",
     "text": [
      "[[ 1  2  3]\n",
      " [ 4  5  6]\n",
      " [ 7  8  9]\n",
      " [10 11 12]]\n"
     ]
    }
   ],
   "source": [
    "a1 = np.array([1, 2, 3, 4, 5, 6, 7, 8, 9, 10, 11, 12])\n",
    "\n",
    "a2 = a1.reshape(4,3)\n",
    "\n",
    "print(a2)"
   ]
  },
  {
   "cell_type": "code",
   "execution_count": 7,
   "id": "baefaa80-24be-43ea-b13f-ea12c6680850",
   "metadata": {},
   "outputs": [
    {
     "name": "stdout",
     "output_type": "stream",
     "text": [
      "[[[ 1  2]\n",
      "  [ 3  4]\n",
      "  [ 5  6]]\n",
      "\n",
      " [[ 7  8]\n",
      "  [ 9 10]\n",
      "  [11 12]]]\n"
     ]
    }
   ],
   "source": [
    "a3 = np.array([1, 2, 3, 4, 5, 6, 7, 8, 9, 10, 11, 12])\n",
    "\n",
    "a4 = a3.reshape(2 ,3 ,2)\n",
    "\n",
    "print(a4)"
   ]
  },
  {
   "cell_type": "code",
   "execution_count": 10,
   "id": "035d9c03-e2d3-459b-b945-96661b4d3857",
   "metadata": {},
   "outputs": [
    {
     "name": "stdout",
     "output_type": "stream",
     "text": [
      "[1 2 3 4 5 6 7 8]\n"
     ]
    }
   ],
   "source": [
    "#Check if the returned array is a copy or a view:\n",
    "a5 = np.array([1, 2, 3, 4, 5, 6, 7, 8])\n",
    "\n",
    "print(a5.reshape(2, 4).base)"
   ]
  },
  {
   "cell_type": "code",
   "execution_count": 11,
   "id": "1b86dfbd-1e48-448b-8c74-dd121e92c07a",
   "metadata": {},
   "outputs": [],
   "source": [
    "#returns the original array, so it is a view."
   ]
  },
  {
   "cell_type": "code",
   "execution_count": 13,
   "id": "972c95b3-06b9-4dcb-a95f-059c2e10db19",
   "metadata": {},
   "outputs": [
    {
     "name": "stdout",
     "output_type": "stream",
     "text": [
      "[[[1 2]\n",
      "  [3 4]]\n",
      "\n",
      " [[5 6]\n",
      "  [7 8]]]\n"
     ]
    }
   ],
   "source": [
    "#Unknown Dimension\n",
    "a6 = np.array([1, 2, 3, 4, 5, 6, 7, 8])\n",
    "\n",
    "a7 = a6.reshape(2 ,2 ,-1)\n",
    "\n",
    "print(a7)"
   ]
  },
  {
   "cell_type": "code",
   "execution_count": 14,
   "id": "8e2b4d92-c1d3-4a08-8f1e-3c536c54372c",
   "metadata": {},
   "outputs": [
    {
     "name": "stdout",
     "output_type": "stream",
     "text": [
      "[1 2 3 4 5 6]\n"
     ]
    }
   ],
   "source": [
    "#Flattening the arrays\n",
    "a8 = np.array([[1, 2, 3], [4, 5, 6]])\n",
    "\n",
    "a9 = a8.reshape(-1)\n",
    "\n",
    "print(a9)"
   ]
  },
  {
   "cell_type": "code",
   "execution_count": null,
   "id": "1bf378de-2a7c-4a0c-a6e3-1ba52d3e0d85",
   "metadata": {},
   "outputs": [],
   "source": []
  }
 ],
 "metadata": {
  "kernelspec": {
   "display_name": "Python 3 (ipykernel)",
   "language": "python",
   "name": "python3"
  },
  "language_info": {
   "codemirror_mode": {
    "name": "ipython",
    "version": 3
   },
   "file_extension": ".py",
   "mimetype": "text/x-python",
   "name": "python",
   "nbconvert_exporter": "python",
   "pygments_lexer": "ipython3",
   "version": "3.12.0"
  }
 },
 "nbformat": 4,
 "nbformat_minor": 5
}
