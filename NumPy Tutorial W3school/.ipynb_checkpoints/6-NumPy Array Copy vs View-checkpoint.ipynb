{
 "cells": [
  {
   "cell_type": "code",
   "execution_count": 2,
   "id": "096375c4-7288-4742-a5c5-51faed49635e",
   "metadata": {},
   "outputs": [],
   "source": [
    "import numpy as np"
   ]
  },
  {
   "cell_type": "code",
   "execution_count": 5,
   "id": "08316eed-be4d-4351-90d0-aa94f7ca5ab2",
   "metadata": {},
   "outputs": [
    {
     "name": "stdout",
     "output_type": "stream",
     "text": [
      "[80  2  3  4  5]\n",
      "[1 2 3 4 5]\n"
     ]
    }
   ],
   "source": [
    "#copy\n",
    "a1 = np.array([1 ,2 ,3 ,4 ,5])\n",
    "\n",
    "a2 = a1.copy()\n",
    "a1[0] =80\n",
    "\n",
    "print(a1)\n",
    "print(a2)"
   ]
  },
  {
   "cell_type": "code",
   "execution_count": 7,
   "id": "27de2475-b714-408d-ad4e-a21e1a50748d",
   "metadata": {},
   "outputs": [
    {
     "name": "stdout",
     "output_type": "stream",
     "text": [
      "[34  3  4  5]\n",
      "[34  3  4  5]\n"
     ]
    }
   ],
   "source": [
    "#view\n",
    "a3 =np.array([1 ,3 ,4 ,5])\n",
    "\n",
    "a4 = a3.view()\n",
    "a3[0]=34 \n",
    "\n",
    "print(a3)\n",
    "print(a4)"
   ]
  },
  {
   "cell_type": "code",
   "execution_count": 8,
   "id": "eb079ec9-78fb-464d-86c2-11ad28f52d68",
   "metadata": {},
   "outputs": [
    {
     "name": "stdout",
     "output_type": "stream",
     "text": [
      "[55  2  3  4  5]\n",
      "[55  2  3  4  5]\n"
     ]
    }
   ],
   "source": [
    "#Make Changes in the VIEW\n",
    "a5 = np.array([1 ,2 ,3 ,4 ,5])\n",
    "\n",
    "a6 = a5.view()\n",
    "a6[0]=55\n",
    "\n",
    "print(a5)\n",
    "print(a6)"
   ]
  },
  {
   "cell_type": "code",
   "execution_count": 9,
   "id": "d3eba259-215f-4ecc-84ce-d05e777a6814",
   "metadata": {},
   "outputs": [
    {
     "name": "stdout",
     "output_type": "stream",
     "text": [
      "None\n",
      "[1 2 3 4 5]\n"
     ]
    }
   ],
   "source": [
    "#Check if Array Owns its Data\n",
    "a7 = np.array([1 ,2 ,3 ,4 ,5])\n",
    "\n",
    "a8 = a7.copy()\n",
    "a9 = a7.view()\n",
    "\n",
    "print(a8.base)\n",
    "print(a9.base)"
   ]
  },
  {
   "cell_type": "code",
   "execution_count": null,
   "id": "7b50b657-b073-4697-bb33-ae55f474c0ac",
   "metadata": {},
   "outputs": [],
   "source": []
  }
 ],
 "metadata": {
  "kernelspec": {
   "display_name": "Python 3 (ipykernel)",
   "language": "python",
   "name": "python3"
  },
  "language_info": {
   "codemirror_mode": {
    "name": "ipython",
    "version": 3
   },
   "file_extension": ".py",
   "mimetype": "text/x-python",
   "name": "python",
   "nbconvert_exporter": "python",
   "pygments_lexer": "ipython3",
   "version": "3.12.0"
  }
 },
 "nbformat": 4,
 "nbformat_minor": 5
}
