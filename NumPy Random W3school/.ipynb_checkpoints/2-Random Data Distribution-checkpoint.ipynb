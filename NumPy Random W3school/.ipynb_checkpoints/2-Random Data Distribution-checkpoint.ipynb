{
 "cells": [
  {
   "cell_type": "code",
   "execution_count": 1,
   "id": "5e7e4e8b-296c-41a6-b755-cc6cdda07c66",
   "metadata": {},
   "outputs": [],
   "source": [
    "from numpy import random"
   ]
  },
  {
   "cell_type": "code",
   "execution_count": 12,
   "id": "9c9e3e04-fe3c-4697-bd5e-32f475705ad9",
   "metadata": {},
   "outputs": [
    {
     "name": "stdout",
     "output_type": "stream",
     "text": [
      "[6 6 3 6 3 3 1 6 6 6 3 3]\n"
     ]
    }
   ],
   "source": [
    "#Random Distribution\n",
    "a1 = random.choice([1 ,3 ,6 ,7],p=(0.1,0.4,0.5,0.0),size=(12))\n",
    "\n",
    "print(a1)"
   ]
  },
  {
   "cell_type": "code",
   "execution_count": 11,
   "id": "550ed484-964b-4a8b-98fe-07f02d36fca4",
   "metadata": {},
   "outputs": [
    {
     "name": "stdout",
     "output_type": "stream",
     "text": [
      "[[4 2 4 8]\n",
      " [6 4 2 6]\n",
      " [6 6 2 6]]\n"
     ]
    }
   ],
   "source": [
    "a2 = random.choice([2 ,4 ,6 ,8],p=(0.2,0.3,0.4,0.1),size=(3,4))\n",
    "\n",
    "print(a2)"
   ]
  },
  {
   "cell_type": "code",
   "execution_count": null,
   "id": "0baf3866-0f9d-4092-935f-a9445c53229e",
   "metadata": {},
   "outputs": [],
   "source": []
  }
 ],
 "metadata": {
  "kernelspec": {
   "display_name": "Python 3 (ipykernel)",
   "language": "python",
   "name": "python3"
  },
  "language_info": {
   "codemirror_mode": {
    "name": "ipython",
    "version": 3
   },
   "file_extension": ".py",
   "mimetype": "text/x-python",
   "name": "python",
   "nbconvert_exporter": "python",
   "pygments_lexer": "ipython3",
   "version": "3.12.0"
  }
 },
 "nbformat": 4,
 "nbformat_minor": 5
}
