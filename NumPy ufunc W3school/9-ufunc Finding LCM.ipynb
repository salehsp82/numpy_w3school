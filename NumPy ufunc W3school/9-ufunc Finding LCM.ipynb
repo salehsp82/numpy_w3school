{
 "cells": [
  {
   "cell_type": "code",
   "execution_count": 1,
   "id": "77a024b2-5520-4523-a8ad-a676706a049a",
   "metadata": {},
   "outputs": [],
   "source": [
    "import numpy as np"
   ]
  },
  {
   "cell_type": "code",
   "execution_count": 4,
   "id": "d5289cce-c2a0-4636-865f-6f150441bd2c",
   "metadata": {},
   "outputs": [
    {
     "name": "stdout",
     "output_type": "stream",
     "text": [
      "12\n"
     ]
    }
   ],
   "source": [
    "#Finding LCM (Lowest Common Multiple)\n",
    "n1 = 4\n",
    "\n",
    "n2 = 6\n",
    "\n",
    "b = np.lcm(n2,n1)\n",
    "\n",
    "print(b)"
   ]
  },
  {
   "cell_type": "code",
   "execution_count": 3,
   "id": "01284c30-9d19-4b2f-a67d-dcfd86aa1204",
   "metadata": {},
   "outputs": [],
   "source": [
    "# 6*2=12 & 4*3=12"
   ]
  },
  {
   "cell_type": "code",
   "execution_count": 11,
   "id": "48c358b4-155c-4369-9617-46083bb97a58",
   "metadata": {},
   "outputs": [
    {
     "name": "stdout",
     "output_type": "stream",
     "text": [
      "15\n"
     ]
    }
   ],
   "source": [
    "#Finding LCM in Arrays\n",
    "a1 = np.array([1 ,3 ,5])\n",
    "\n",
    "b2 = np.lcm.reduce(a)\n",
    "\n",
    "print(b2)"
   ]
  },
  {
   "cell_type": "code",
   "execution_count": 12,
   "id": "8a897f51-32d7-4aa9-9dd7-84164042f589",
   "metadata": {},
   "outputs": [
    {
     "name": "stdout",
     "output_type": "stream",
     "text": [
      "2520\n"
     ]
    }
   ],
   "source": [
    "a2 = np.arange(1,11)\n",
    "\n",
    "b3 = np.lcm.reduce(a2)\n",
    "\n",
    "print(b3)"
   ]
  },
  {
   "cell_type": "code",
   "execution_count": null,
   "id": "44d7c1c6-f990-492b-afe7-bf564a1df6db",
   "metadata": {},
   "outputs": [],
   "source": []
  }
 ],
 "metadata": {
  "kernelspec": {
   "display_name": "Python 3 (ipykernel)",
   "language": "python",
   "name": "python3"
  },
  "language_info": {
   "codemirror_mode": {
    "name": "ipython",
    "version": 3
   },
   "file_extension": ".py",
   "mimetype": "text/x-python",
   "name": "python",
   "nbconvert_exporter": "python",
   "pygments_lexer": "ipython3",
   "version": "3.12.0"
  }
 },
 "nbformat": 4,
 "nbformat_minor": 5
}
