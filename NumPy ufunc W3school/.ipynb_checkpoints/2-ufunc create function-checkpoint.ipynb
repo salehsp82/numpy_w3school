{
 "cells": [
  {
   "cell_type": "code",
   "execution_count": 1,
   "id": "415c93eb-e811-42ad-91f7-30e5caa0d3be",
   "metadata": {},
   "outputs": [],
   "source": [
    "import numpy as np"
   ]
  },
  {
   "cell_type": "code",
   "execution_count": 8,
   "id": "8fa976b9-f448-4ace-9df0-80842ac48b20",
   "metadata": {},
   "outputs": [
    {
     "name": "stdout",
     "output_type": "stream",
     "text": [
      "[3 10 13 9]\n"
     ]
    }
   ],
   "source": [
    "def Add (a,b):\n",
    "    return a+b\n",
    "\n",
    "Add = np.frompyfunc(Add,2,1)\n",
    "\n",
    "print(Add([1 ,4 ,5 ,6],[2 ,6 ,8 ,3]))"
   ]
  },
  {
   "cell_type": "code",
   "execution_count": 9,
   "id": "c6cb059f-7b47-4e0f-97fe-dc761bfdc3cf",
   "metadata": {},
   "outputs": [
    {
     "name": "stdout",
     "output_type": "stream",
     "text": [
      "<class 'numpy.ufunc'>\n"
     ]
    }
   ],
   "source": [
    "print(type(np.add))"
   ]
  },
  {
   "cell_type": "code",
   "execution_count": 12,
   "id": "8a3f449a-8ad0-43e4-bd0d-4527fa648ae6",
   "metadata": {},
   "outputs": [
    {
     "name": "stdout",
     "output_type": "stream",
     "text": [
      "<class 'numpy._ArrayFunctionDispatcher'>\n"
     ]
    }
   ],
   "source": [
    "print(type(np.concatenate))"
   ]
  },
  {
   "cell_type": "code",
   "execution_count": 14,
   "id": "43e9fee7-eb69-4bed-bfd4-2c5f0f05caa6",
   "metadata": {},
   "outputs": [
    {
     "ename": "NameError",
     "evalue": "name 'balhblah' is not defined",
     "output_type": "error",
     "traceback": [
      "\u001b[1;31m---------------------------------------------------------------------------\u001b[0m",
      "\u001b[1;31mNameError\u001b[0m                                 Traceback (most recent call last)",
      "Cell \u001b[1;32mIn[14], line 1\u001b[0m\n\u001b[1;32m----> 1\u001b[0m \u001b[38;5;28mprint\u001b[39m(\u001b[38;5;28mtype\u001b[39m(\u001b[43mbalhblah\u001b[49m))\n",
      "\u001b[1;31mNameError\u001b[0m: name 'balhblah' is not defined"
     ]
    }
   ],
   "source": [
    "print(type(balhblah))"
   ]
  },
  {
   "cell_type": "code",
   "execution_count": 15,
   "id": "04e4aeac-4924-4987-82a5-68d0aabb2024",
   "metadata": {},
   "outputs": [
    {
     "name": "stdout",
     "output_type": "stream",
     "text": [
      "add is ufunc\n"
     ]
    }
   ],
   "source": [
    "if type(np.add) == np.ufunc:\n",
    "    print('add is ufunc')\n",
    "else:\n",
    "    print('add is not ufunc')"
   ]
  },
  {
   "cell_type": "code",
   "execution_count": null,
   "id": "cf1ef7e2-04f8-4c3f-8993-f4941aaefd3e",
   "metadata": {},
   "outputs": [],
   "source": []
  }
 ],
 "metadata": {
  "kernelspec": {
   "display_name": "Python 3 (ipykernel)",
   "language": "python",
   "name": "python3"
  },
  "language_info": {
   "codemirror_mode": {
    "name": "ipython",
    "version": 3
   },
   "file_extension": ".py",
   "mimetype": "text/x-python",
   "name": "python",
   "nbconvert_exporter": "python",
   "pygments_lexer": "ipython3",
   "version": "3.12.0"
  }
 },
 "nbformat": 4,
 "nbformat_minor": 5
}
