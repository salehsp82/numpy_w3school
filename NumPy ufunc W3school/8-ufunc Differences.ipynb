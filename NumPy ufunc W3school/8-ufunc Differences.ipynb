{
 "cells": [
  {
   "cell_type": "code",
   "execution_count": 1,
   "id": "6073c10f-fdb1-4750-ba7d-0b6fbbe569c0",
   "metadata": {},
   "outputs": [],
   "source": [
    "import numpy as np"
   ]
  },
  {
   "cell_type": "code",
   "execution_count": 3,
   "id": "0c61e305-a6e6-429e-8d6e-233c05b0545b",
   "metadata": {},
   "outputs": [
    {
     "name": "stdout",
     "output_type": "stream",
     "text": [
      "[  5   5 -10]\n"
     ]
    }
   ],
   "source": [
    "a1 = np.array([5 , 10 ,15 ,5])\n",
    "\n",
    "b1 = np.diff(a1)\n",
    "\n",
    "print(b1)"
   ]
  },
  {
   "cell_type": "code",
   "execution_count": 7,
   "id": "00d73786-b1a9-4c66-bf1e-abdfb9222d5c",
   "metadata": {},
   "outputs": [],
   "source": [
    "# 10-5=5 & 15-10=5 & 5-15=-10"
   ]
  },
  {
   "cell_type": "code",
   "execution_count": 5,
   "id": "e5200e7b-a7a5-4c6c-84e2-fe281aa4095c",
   "metadata": {},
   "outputs": [
    {
     "name": "stdout",
     "output_type": "stream",
     "text": [
      "[  0 -15]\n"
     ]
    }
   ],
   "source": [
    "a1 = np.array([5 , 10 ,15 ,5])\n",
    "\n",
    "b2 = np.diff(a1,n=2)\n",
    "\n",
    "print(b2)"
   ]
  },
  {
   "cell_type": "code",
   "execution_count": 6,
   "id": "8de5eaf1-8c16-4e76-a6ac-9a4c3b67f2be",
   "metadata": {},
   "outputs": [],
   "source": [
    "# 10-5=5 & 15-10=5 & 5-15=-10 == [5 , 5 , -10] \n",
    "# 5-5=0 & -10-5=-15 == [0 , -15]"
   ]
  },
  {
   "cell_type": "code",
   "execution_count": null,
   "id": "acca608e-6768-44b5-895b-2e6e1ab30771",
   "metadata": {},
   "outputs": [],
   "source": []
  }
 ],
 "metadata": {
  "kernelspec": {
   "display_name": "Python 3 (ipykernel)",
   "language": "python",
   "name": "python3"
  },
  "language_info": {
   "codemirror_mode": {
    "name": "ipython",
    "version": 3
   },
   "file_extension": ".py",
   "mimetype": "text/x-python",
   "name": "python",
   "nbconvert_exporter": "python",
   "pygments_lexer": "ipython3",
   "version": "3.12.0"
  }
 },
 "nbformat": 4,
 "nbformat_minor": 5
}
