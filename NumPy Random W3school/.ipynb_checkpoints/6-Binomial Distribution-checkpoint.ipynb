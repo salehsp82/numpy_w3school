{
 "cells": [
  {
   "cell_type": "code",
   "execution_count": 5,
   "id": "62f45cd3-17e4-4346-a7ce-771701e4e5da",
   "metadata": {},
   "outputs": [],
   "source": [
    "from numpy import random\n",
    "import matplotlib.pyplot as plt\n",
    "import seaborn as sns"
   ]
  },
  {
   "cell_type": "code",
   "execution_count": 20,
   "id": "fe53562e-79b2-4aa9-a09e-be48a8123fa8",
   "metadata": {},
   "outputs": [
    {
     "name": "stdout",
     "output_type": "stream",
     "text": [
      "[7 8 3 5 5 4 6 3 2 6]\n"
     ]
    }
   ],
   "source": [
    "a1 = random.binomial(n=10,p=0.5,size=(10))\n",
    "\n",
    "print(a1)"
   ]
  },
  {
   "cell_type": "code",
   "execution_count": null,
   "id": "1fd255e7-bc50-4f3f-b33f-59754bad660d",
   "metadata": {},
   "outputs": [],
   "source": [
    "sns.distplot(random.ninomial(n=10,p=0.5,size=1000,))"
   ]
  }
 ],
 "metadata": {
  "kernelspec": {
   "display_name": "Python 3 (ipykernel)",
   "language": "python",
   "name": "python3"
  },
  "language_info": {
   "codemirror_mode": {
    "name": "ipython",
    "version": 3
   },
   "file_extension": ".py",
   "mimetype": "text/x-python",
   "name": "python",
   "nbconvert_exporter": "python",
   "pygments_lexer": "ipython3",
   "version": "3.12.0"
  }
 },
 "nbformat": 4,
 "nbformat_minor": 5
}
