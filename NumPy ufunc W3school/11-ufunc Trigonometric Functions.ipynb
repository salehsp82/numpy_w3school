{
 "cells": [
  {
   "cell_type": "code",
   "execution_count": 1,
   "id": "a4dfad0f-792e-4c29-8e0d-41e3ebaf8759",
   "metadata": {},
   "outputs": [],
   "source": [
    "import numpy as np"
   ]
  },
  {
   "cell_type": "code",
   "execution_count": 4,
   "id": "81e06909-e6eb-4428-8b91-804af77d2c75",
   "metadata": {},
   "outputs": [
    {
     "name": "stdout",
     "output_type": "stream",
     "text": [
      "1.0\n"
     ]
    }
   ],
   "source": [
    "#Trigonometric Functions\n",
    "n = np.sin(np.pi/2)\n",
    "\n",
    "print(n)"
   ]
  },
  {
   "cell_type": "code",
   "execution_count": 6,
   "id": "3f0309c4-cc44-476f-9d46-be9bb8db65e5",
   "metadata": {},
   "outputs": [
    {
     "name": "stdout",
     "output_type": "stream",
     "text": [
      "[1.         0.8660254  0.70710678 0.58778525]\n"
     ]
    }
   ],
   "source": [
    "a = np.array([np.pi/2,np.pi/3,np.pi/4,np.pi/5])\n",
    "\n",
    "b = np.sin(a)\n",
    "\n",
    "print(b)"
   ]
  },
  {
   "cell_type": "code",
   "execution_count": 8,
   "id": "d93157a1-0c00-4abe-ad25-70233134dad2",
   "metadata": {},
   "outputs": [
    {
     "name": "stdout",
     "output_type": "stream",
     "text": [
      "[0.78539816 1.57079633 3.14159265 4.53785606 6.28318531]\n"
     ]
    }
   ],
   "source": [
    "#Convert Degrees Into Radians\n",
    "a1 = np.array([45 ,90 ,180,260,360])\n",
    "\n",
    "b1 = np.deg2rad(a1)\n",
    "\n",
    "print(b1)"
   ]
  },
  {
   "cell_type": "code",
   "execution_count": 9,
   "id": "5be6c10f-fb33-4fa6-b3fe-6893b0e03e9b",
   "metadata": {},
   "outputs": [
    {
     "name": "stdout",
     "output_type": "stream",
     "text": [
      "[0.02741557 0.05483114 0.0822467  0.10966227]\n"
     ]
    }
   ],
   "source": [
    "#Radians to Degrees\n",
    "a2 = np.array([np.pi/2,np.pi,1.5*np.pi,2*np.pi])\n",
    "\n",
    "b2 = np.deg2rad(a2)\n",
    "\n",
    "print(b2)"
   ]
  },
  {
   "cell_type": "code",
   "execution_count": 10,
   "id": "de1fbc79-1277-42d5-807d-6048e8392294",
   "metadata": {},
   "outputs": [
    {
     "name": "stdout",
     "output_type": "stream",
     "text": [
      "1.5707963267948966\n"
     ]
    }
   ],
   "source": [
    "#Finding Angles\n",
    "n1 = np.arcsin(1.0)\n",
    "\n",
    "print(n1)"
   ]
  },
  {
   "cell_type": "code",
   "execution_count": 11,
   "id": "90a5a6b5-f315-48ad-a0db-67eee29b9e3c",
   "metadata": {},
   "outputs": [
    {
     "name": "stdout",
     "output_type": "stream",
     "text": [
      "[       nan        nan 0.20135792]\n"
     ]
    },
    {
     "name": "stderr",
     "output_type": "stream",
     "text": [
      "C:\\Users\\saleh\\AppData\\Local\\Temp\\ipykernel_9768\\1967501474.py:4: RuntimeWarning: invalid value encountered in arcsin\n",
      "  b3 = np.arcsin(a3)\n"
     ]
    }
   ],
   "source": [
    "#Angles of Each Value in Arrays\n",
    "a3 = np.array([2 ,-2 ,0.2])\n",
    "\n",
    "b3 = np.arcsin(a3)\n",
    "\n",
    "print(b3)"
   ]
  },
  {
   "cell_type": "code",
   "execution_count": 12,
   "id": "fcadcb09-80ec-47df-b9c9-643c1df3e6f5",
   "metadata": {},
   "outputs": [
    {
     "name": "stdout",
     "output_type": "stream",
     "text": [
      "5.0\n"
     ]
    }
   ],
   "source": [
    "#Hypotenues\n",
    "base = 3\n",
    "prep = 4\n",
    "\n",
    "b4 = np.hypot(base,prep)\n",
    "\n",
    "print(b4)"
   ]
  },
  {
   "cell_type": "code",
   "execution_count": null,
   "id": "6923513d-133e-4bba-a627-1aa9a5d35f24",
   "metadata": {},
   "outputs": [],
   "source": []
  }
 ],
 "metadata": {
  "kernelspec": {
   "display_name": "Python 3 (ipykernel)",
   "language": "python",
   "name": "python3"
  },
  "language_info": {
   "codemirror_mode": {
    "name": "ipython",
    "version": 3
   },
   "file_extension": ".py",
   "mimetype": "text/x-python",
   "name": "python",
   "nbconvert_exporter": "python",
   "pygments_lexer": "ipython3",
   "version": "3.12.0"
  }
 },
 "nbformat": 4,
 "nbformat_minor": 5
}
