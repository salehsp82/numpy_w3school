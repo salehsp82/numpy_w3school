{
 "cells": [
  {
   "cell_type": "code",
   "execution_count": 1,
   "id": "4dc2856a-46d4-41fc-a78a-31d1580a97a5",
   "metadata": {},
   "outputs": [],
   "source": [
    "import numpy as np"
   ]
  },
  {
   "cell_type": "code",
   "execution_count": 4,
   "id": "119e4780-abd9-4800-90c1-2a3215bcb188",
   "metadata": {},
   "outputs": [
    {
     "name": "stdout",
     "output_type": "stream",
     "text": [
      "[1 2 3 4 5 6 7 8]\n"
     ]
    }
   ],
   "source": [
    "#Create Sets in NumPy\n",
    "a = np.array([1 ,2 ,2 ,4 ,3 ,4 ,5 ,6 ,7 ,8 ,8])\n",
    "\n",
    "b = np.unique(a)\n",
    "\n",
    "print(b)"
   ]
  },
  {
   "cell_type": "code",
   "execution_count": 6,
   "id": "3f694a9e-2f54-4071-810d-36e737253fff",
   "metadata": {},
   "outputs": [
    {
     "name": "stdout",
     "output_type": "stream",
     "text": [
      "[1 2 3 4 6 7 8 9]\n"
     ]
    }
   ],
   "source": [
    "#Finding Union\n",
    "a1 = np.array([1 ,3 ,6 ,7 ,8])\n",
    "a2 = np.array([2 ,4 ,3 ,8 ,9])\n",
    "\n",
    "b1 = np.union1d(a1,a2)\n",
    "\n",
    "print(b1)"
   ]
  },
  {
   "cell_type": "code",
   "execution_count": 8,
   "id": "3a0cc382-053d-4bfd-bc5f-51f70b7fe82c",
   "metadata": {},
   "outputs": [
    {
     "name": "stdout",
     "output_type": "stream",
     "text": [
      "[3 8]\n"
     ]
    }
   ],
   "source": [
    "#Finding Intersection\n",
    "a1 = np.array([1 ,3 ,6 ,7 ,8])\n",
    "a2 = np.array([2 ,4 ,3 ,8 ,9])\n",
    "\n",
    "b2 = np.intersect1d(a1,a2, assume_unique=True)\n",
    "\n",
    "print(b2)"
   ]
  },
  {
   "cell_type": "code",
   "execution_count": 11,
   "id": "00b463d9-324d-43b4-b089-dcd416208713",
   "metadata": {},
   "outputs": [
    {
     "name": "stdout",
     "output_type": "stream",
     "text": [
      "[1 6 7]\n"
     ]
    }
   ],
   "source": [
    "#Finding Difference\n",
    "a1 = np.array([1 ,3 ,6 ,7 ,8])\n",
    "a2 = np.array([2 ,4 ,3 ,8 ,9])\n",
    "\n",
    "b3 = np.setdiff1d(a1,a2,assume_unique=True)\n",
    "\n",
    "print(b3)"
   ]
  },
  {
   "cell_type": "code",
   "execution_count": 10,
   "id": "d86e0496-8afa-4727-b27f-bff43ad3236d",
   "metadata": {},
   "outputs": [
    {
     "name": "stdout",
     "output_type": "stream",
     "text": [
      "[1 2 4 6 7 9]\n"
     ]
    }
   ],
   "source": [
    "#Finding Symmetric Difference\n",
    "a1 = np.array([1 ,3 ,6 ,7 ,8])\n",
    "a2 = np.array([2 ,4 ,3 ,8 ,9])\n",
    "\n",
    "b4 = np.setxor1d(a1,a2,assume_unique=True)\n",
    "\n",
    "print(b4)"
   ]
  },
  {
   "cell_type": "code",
   "execution_count": null,
   "id": "1dbfdba0-7974-4055-b069-837264877d67",
   "metadata": {},
   "outputs": [],
   "source": []
  }
 ],
 "metadata": {
  "kernelspec": {
   "display_name": "Python 3 (ipykernel)",
   "language": "python",
   "name": "python3"
  },
  "language_info": {
   "codemirror_mode": {
    "name": "ipython",
    "version": 3
   },
   "file_extension": ".py",
   "mimetype": "text/x-python",
   "name": "python",
   "nbconvert_exporter": "python",
   "pygments_lexer": "ipython3",
   "version": "3.12.0"
  }
 },
 "nbformat": 4,
 "nbformat_minor": 5
}
